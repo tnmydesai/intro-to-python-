{
 "cells": [
  {
   "cell_type": "markdown",
   "id": "ef10156c",
   "metadata": {},
   "source": [
    "# Table of Contents\n",
    "\n",
    "* [Conditions](#cnds)\n",
    "* [Loops](#lps)\n",
    "* [Functions](#fncs)\n",
    "* [Built-in-Libraries](#bil)\n",
    "* [File Handling](#flhndl)"
   ]
  },
  {
   "cell_type": "markdown",
   "id": "8b398cdc",
   "metadata": {},
   "source": [
    "![image.png](https://www.python.org/static/img/python-logo@2x.png)\n",
    "\n",
    "Resuming where we left off. We have seen the basic building blocks/data structures of python till now.\n",
    "* Variables and Types\n",
    "    * Numbers\n",
    "    * Strings\n",
    "* Lists\n",
    "* Tuples\n",
    "* Sets\n",
    "* Dictionaries\n",
    "\n",
    "Now it is time, we start connect/assemble these blocks to build things. "
   ]
  },
  {
   "cell_type": "markdown",
   "id": "7e4a1192",
   "metadata": {},
   "source": [
    "## Conditions<a class=\"anchor\" id=\"cnds\"></a>\n",
    "Python uses boolean logic to evaluate conditions. The boolean values True and False are returned when an expression is compared or evaluated. For example:"
   ]
  },
  {
   "cell_type": "code",
   "execution_count": null,
   "id": "c8fa2665",
   "metadata": {},
   "outputs": [],
   "source": [
    "# Syntax wise\n",
    "\n",
    "if condition:\n",
    "#     'what' will happen'\n",
    "else: \n",
    "#     'what will happen'"
   ]
  },
  {
   "cell_type": "code",
   "execution_count": 4,
   "id": "589c1fee",
   "metadata": {},
   "outputs": [
    {
     "name": "stdout",
     "output_type": "stream",
     "text": [
      "False\n"
     ]
    }
   ],
   "source": [
    "if 10 == 5:\n",
    "    print(True)\n",
    "else:\n",
    "    print(False)"
   ]
  },
  {
   "cell_type": "code",
   "execution_count": 5,
   "id": "14423624",
   "metadata": {},
   "outputs": [],
   "source": [
    "a = 0\n",
    "\n",
    "if 50 > 20:\n",
    "    a = 10\n",
    "else:\n",
    "    a = 30"
   ]
  },
  {
   "cell_type": "code",
   "execution_count": 6,
   "id": "06b224f7",
   "metadata": {},
   "outputs": [
    {
     "name": "stdout",
     "output_type": "stream",
     "text": [
      "10\n"
     ]
    }
   ],
   "source": [
    "print(a)"
   ]
  },
  {
   "cell_type": "code",
   "execution_count": 9,
   "id": "b1b13fe1",
   "metadata": {},
   "outputs": [
    {
     "name": "stdout",
     "output_type": "stream",
     "text": [
      "False\n",
      "True\n"
     ]
    }
   ],
   "source": [
    "print(2 == 3) # prints out False\n",
    "print(2 < 3) # prints out True"
   ]
  },
  {
   "cell_type": "code",
   "execution_count": 1,
   "id": "632daaf2",
   "metadata": {},
   "outputs": [
    {
     "name": "stdout",
     "output_type": "stream",
     "text": [
      "True\n"
     ]
    }
   ],
   "source": [
    "name = \"sid\"\n",
    "if name == \"sid\":\n",
    "    print(True)\n",
    "else:\n",
    "    print(False)"
   ]
  },
  {
   "cell_type": "markdown",
   "id": "37fe3da2",
   "metadata": {},
   "source": [
    "--------\n",
    "\n",
    "### Practice\n",
    "\n",
    "--------\n",
    "\n",
    "Write a condition that checks if the number is negative.\n",
    "\n",
    "Write a condition that checks if a number is even."
   ]
  },
  {
   "cell_type": "markdown",
   "id": "f41e943f",
   "metadata": {},
   "source": [
    "## Boolean Operators (And/Or)"
   ]
  },
  {
   "cell_type": "code",
   "execution_count": 15,
   "id": "b6daf161",
   "metadata": {},
   "outputs": [
    {
     "name": "stdout",
     "output_type": "stream",
     "text": [
      "True\n"
     ]
    }
   ],
   "source": [
    "name = \"sid\"\n",
    "age = 27\n",
    "\n",
    "if name == \"sid\" and age == 27:\n",
    "    print(True)\n",
    "else:\n",
    "    print(False)"
   ]
  },
  {
   "cell_type": "code",
   "execution_count": 2,
   "id": "be9348cd",
   "metadata": {},
   "outputs": [
    {
     "name": "stdout",
     "output_type": "stream",
     "text": [
      "True\n"
     ]
    }
   ],
   "source": [
    "name = \"sid\"\n",
    "age = 27\n",
    "\n",
    "if name == \"sid\" or age == 27:\n",
    "    print(True)\n",
    "else:\n",
    "    print(False)"
   ]
  },
  {
   "cell_type": "markdown",
   "id": "e8ded9e9",
   "metadata": {},
   "source": [
    "--------\n",
    "\n",
    "### Practice\n",
    "\n",
    "--------\n",
    "\n",
    "Write a condition that checks if a number is between 100 and 95"
   ]
  },
  {
   "cell_type": "markdown",
   "id": "a2d8200d",
   "metadata": {},
   "source": [
    "## \"in\" operator"
   ]
  },
  {
   "cell_type": "code",
   "execution_count": 3,
   "id": "e30d7b48",
   "metadata": {},
   "outputs": [
    {
     "name": "stdout",
     "output_type": "stream",
     "text": [
      "True\n"
     ]
    }
   ],
   "source": [
    "name = \"Sid\"\n",
    "if name in [\"Sid\", \"Anjali\"]:\n",
    "    print(True)\n",
    "else:\n",
    "    print(False)"
   ]
  },
  {
   "cell_type": "markdown",
   "id": "3f583ab8",
   "metadata": {},
   "source": [
    "--------\n",
    "\n",
    "### Practice\n",
    "\n",
    "--------\n",
    "\n",
    "Write code that checks if item in list."
   ]
  },
  {
   "cell_type": "markdown",
   "id": "08e3bf04",
   "metadata": {},
   "source": [
    "## If, elif, else"
   ]
  },
  {
   "cell_type": "code",
   "execution_count": 4,
   "id": "a01dc9f4",
   "metadata": {},
   "outputs": [],
   "source": [
    "# The base syntax\n",
    "statement = False\n",
    "another_statement = True\n",
    "if statement is True:\n",
    "    # do something\n",
    "    pass\n",
    "elif another_statement is True: # else if\n",
    "    # do something else\n",
    "    pass\n",
    "else:\n",
    "    # do another thing\n",
    "    pass"
   ]
  },
  {
   "cell_type": "markdown",
   "id": "62c5f8be",
   "metadata": {},
   "source": [
    "--------\n",
    "\n",
    "### Practice\n",
    "\n",
    "--------\n",
    "\n",
    "Write a condition that checks if a number is between 100 and 95, 95 and 80 or less than 80."
   ]
  },
  {
   "cell_type": "markdown",
   "id": "993dd4ee",
   "metadata": {},
   "source": [
    "## Nested If"
   ]
  },
  {
   "cell_type": "code",
   "execution_count": 35,
   "id": "8a0247ca",
   "metadata": {},
   "outputs": [
    {
     "name": "stdout",
     "output_type": "stream",
     "text": [
      "Above ten,\n",
      "and also above 20!\n"
     ]
    }
   ],
   "source": [
    "x = 41\n",
    "\n",
    "if x > 10:\n",
    "  print(\"Above ten,\")\n",
    "  if x > 20:\n",
    "    print(\"and also above 20!\")\n",
    "  else:\n",
    "    print(\"but not above 20.\")"
   ]
  },
  {
   "cell_type": "markdown",
   "id": "878ca6a3",
   "metadata": {},
   "source": [
    "## 'is' operator"
   ]
  },
  {
   "cell_type": "code",
   "execution_count": 19,
   "id": "8d8feef1",
   "metadata": {},
   "outputs": [
    {
     "name": "stdout",
     "output_type": "stream",
     "text": [
      "True\n",
      "False\n"
     ]
    }
   ],
   "source": [
    "x = [1,2,3]\n",
    "y = [1,2,3]\n",
    "print(x == y) # Prints out True\n",
    "print(x is y) # Prints out False"
   ]
  },
  {
   "cell_type": "markdown",
   "id": "189ae8da",
   "metadata": {},
   "source": [
    "## \"not\" operator"
   ]
  },
  {
   "cell_type": "code",
   "execution_count": 20,
   "id": "385e04f2",
   "metadata": {},
   "outputs": [
    {
     "name": "stdout",
     "output_type": "stream",
     "text": [
      "True\n",
      "False\n"
     ]
    }
   ],
   "source": [
    "print(not False) # Prints out True\n",
    "print((not False) == (False)) # Prints out False"
   ]
  },
  {
   "cell_type": "markdown",
   "id": "2c844133",
   "metadata": {},
   "source": [
    "-----"
   ]
  },
  {
   "cell_type": "markdown",
   "id": "5a261325",
   "metadata": {},
   "source": [
    "# Loops<a class=\"anchor\" id=\"lps\"></a>\n",
    "There are two types of loops in Python, for and while.\n",
    "\n",
    "- \"for\" loop\n",
    "- \"while\" loops"
   ]
  },
  {
   "cell_type": "markdown",
   "id": "8635e41e",
   "metadata": {},
   "source": [
    "## \"for\" loop"
   ]
  },
  {
   "cell_type": "code",
   "execution_count": 22,
   "id": "22d3e862",
   "metadata": {},
   "outputs": [
    {
     "name": "stdout",
     "output_type": "stream",
     "text": [
      "1\n",
      "2\n",
      "3\n",
      "4\n",
      "5\n"
     ]
    }
   ],
   "source": [
    "number_list = [1,2,3,4,5]\n",
    "for number in number_list:\n",
    "    print(number)"
   ]
  },
  {
   "cell_type": "markdown",
   "id": "c6ad9f6a",
   "metadata": {},
   "source": [
    "## Range"
   ]
  },
  {
   "cell_type": "code",
   "execution_count": 23,
   "id": "eebaf465",
   "metadata": {},
   "outputs": [
    {
     "name": "stdout",
     "output_type": "stream",
     "text": [
      "0\n",
      "1\n",
      "2\n",
      "3\n",
      "4\n"
     ]
    }
   ],
   "source": [
    "# Prints out the numbers 0,1,2,3,4\n",
    "for x in range(5):\n",
    "    print(x)"
   ]
  },
  {
   "cell_type": "code",
   "execution_count": 24,
   "id": "daa6c649",
   "metadata": {},
   "outputs": [
    {
     "name": "stdout",
     "output_type": "stream",
     "text": [
      "3\n",
      "4\n",
      "5\n"
     ]
    }
   ],
   "source": [
    "# Prints out 3,4,5\n",
    "for x in range(3, 6):\n",
    "    print(x)"
   ]
  },
  {
   "cell_type": "code",
   "execution_count": 25,
   "id": "66168f7f",
   "metadata": {},
   "outputs": [
    {
     "name": "stdout",
     "output_type": "stream",
     "text": [
      "3\n",
      "5\n",
      "7\n"
     ]
    }
   ],
   "source": [
    "# Prints out 3,5,7\n",
    "for x in range(3, 8, 2):\n",
    "    print(x)"
   ]
  },
  {
   "cell_type": "markdown",
   "id": "96846aec",
   "metadata": {},
   "source": [
    "## \"While\" Loop\n",
    "While loops repeat as long as a certain boolean condition is met."
   ]
  },
  {
   "cell_type": "code",
   "execution_count": 26,
   "id": "4aaf950b",
   "metadata": {},
   "outputs": [
    {
     "name": "stdout",
     "output_type": "stream",
     "text": [
      "0\n",
      "1\n",
      "2\n",
      "3\n",
      "4\n"
     ]
    }
   ],
   "source": [
    "# Prints out 0,1,2,3,4\n",
    "\n",
    "count = 0\n",
    "while count < 5:\n",
    "    print(count)\n",
    "    count += 1  # This is the same as count = count + 1"
   ]
  },
  {
   "cell_type": "markdown",
   "id": "0b7c55a8",
   "metadata": {},
   "source": [
    "Much to elaborate here, but we will not cover this here. If the need ever arises, we will cover those topics."
   ]
  },
  {
   "cell_type": "markdown",
   "id": "eac7d757",
   "metadata": {},
   "source": [
    "-------"
   ]
  },
  {
   "cell_type": "markdown",
   "id": "ec6e881c",
   "metadata": {},
   "source": [
    "# Functions<a class=\"anchor\" id=\"fncs\"></a>\n",
    "Functions are a convenient way to divide your code into useful blocks, allowing us to order our code, make it more readable, reuse it and save some time. Also functions are a key way to define interfaces so programmers can share their code."
   ]
  },
  {
   "cell_type": "code",
   "execution_count": 27,
   "id": "576852af",
   "metadata": {},
   "outputs": [],
   "source": [
    "def my_function():\n",
    "    print(\"Hello From My Function!\")"
   ]
  },
  {
   "cell_type": "code",
   "execution_count": 29,
   "id": "a716ed76",
   "metadata": {},
   "outputs": [
    {
     "name": "stdout",
     "output_type": "stream",
     "text": [
      "Hello From My Function!\n"
     ]
    }
   ],
   "source": [
    "my_function()"
   ]
  },
  {
   "cell_type": "code",
   "execution_count": 30,
   "id": "38751d89",
   "metadata": {},
   "outputs": [],
   "source": [
    "def my_function_with_args(username, greeting):\n",
    "    print(f\"Hello, {username}, From My Function!, I wish you {greeting}\")"
   ]
  },
  {
   "cell_type": "code",
   "execution_count": 31,
   "id": "9d08888f",
   "metadata": {},
   "outputs": [
    {
     "name": "stdout",
     "output_type": "stream",
     "text": [
      "Hello, Sid, From My Function!, I wish you Best\n"
     ]
    }
   ],
   "source": [
    "my_function_with_args(\"Sid\",\"Best\")"
   ]
  },
  {
   "cell_type": "code",
   "execution_count": 32,
   "id": "1c7b47f5",
   "metadata": {},
   "outputs": [],
   "source": [
    "def sum_of_two_numbers(a, b):\n",
    "    return a + b"
   ]
  },
  {
   "cell_type": "code",
   "execution_count": 33,
   "id": "0bd657bc",
   "metadata": {},
   "outputs": [
    {
     "data": {
      "text/plain": [
       "15"
      ]
     },
     "execution_count": 33,
     "metadata": {},
     "output_type": "execute_result"
    }
   ],
   "source": [
    "sum_of_two_numbers(5,10)"
   ]
  },
  {
   "cell_type": "markdown",
   "id": "016cf885",
   "metadata": {},
   "source": [
    "## Built-in Libraries<a class=\"anchor\" id=\"bil\"></a>"
   ]
  },
  {
   "cell_type": "code",
   "execution_count": 5,
   "id": "5ee67545",
   "metadata": {},
   "outputs": [],
   "source": [
    "import math\n",
    "import random"
   ]
  },
  {
   "cell_type": "code",
   "execution_count": 40,
   "id": "3c888bd7",
   "metadata": {},
   "outputs": [
    {
     "data": {
      "text/plain": [
       "-0.5440211108893698"
      ]
     },
     "execution_count": 40,
     "metadata": {},
     "output_type": "execute_result"
    }
   ],
   "source": [
    "math.sin(10)"
   ]
  },
  {
   "cell_type": "code",
   "execution_count": 41,
   "id": "b28726cc",
   "metadata": {},
   "outputs": [
    {
     "data": {
      "text/plain": [
       "-0.8390715290764524"
      ]
     },
     "execution_count": 41,
     "metadata": {},
     "output_type": "execute_result"
    }
   ],
   "source": [
    "math.cos(10)"
   ]
  },
  {
   "cell_type": "code",
   "execution_count": 6,
   "id": "181d4903",
   "metadata": {},
   "outputs": [
    {
     "data": {
      "text/plain": [
       "4"
      ]
     },
     "execution_count": 6,
     "metadata": {},
     "output_type": "execute_result"
    }
   ],
   "source": [
    "math.isqrt(16)"
   ]
  },
  {
   "cell_type": "code",
   "execution_count": 17,
   "id": "3d11c4fc",
   "metadata": {},
   "outputs": [
    {
     "data": {
      "text/plain": [
       "11"
      ]
     },
     "execution_count": 17,
     "metadata": {},
     "output_type": "execute_result"
    }
   ],
   "source": [
    "random.randint(10,20)"
   ]
  },
  {
   "cell_type": "markdown",
   "id": "1dca26b5",
   "metadata": {},
   "source": [
    "## File handling (Handout)<a class=\"anchor\" id=\"flhndl\"></a>"
   ]
  },
  {
   "cell_type": "markdown",
   "id": "117d59ab",
   "metadata": {},
   "source": [
    "The key function for working with files in Python is the open() function.\n",
    "\n",
    "The ```open()``` function takes two parameters; ```filename```, and ```mode```.\n",
    "\n",
    "There are four different methods (modes) for opening a file:\n",
    "\n",
    "```\n",
    "\"r\" - Read - Default value. Opens a file for reading, error if the file does not exist\n",
    "\n",
    "\"a\" - Append - Opens a file for appending, creates the file if it does not exist\n",
    "\n",
    "\"w\" - Write - Opens a file for writing, creates the file if it does not exist\n",
    "\n",
    "\"x\" - Create - Creates the specified file, returns an error if the file exists\n",
    "```"
   ]
  },
  {
   "cell_type": "code",
   "execution_count": null,
   "id": "6c433259",
   "metadata": {},
   "outputs": [],
   "source": [
    "# Rough\n",
    "f = open(\"demofile.txt\")"
   ]
  },
  {
   "cell_type": "code",
   "execution_count": null,
   "id": "1b66d9b3",
   "metadata": {},
   "outputs": [],
   "source": [
    "# Opening in reading mode\n",
    "f = open(\"demofile.txt\", \"r\")\n",
    "print(f.read())"
   ]
  },
  {
   "cell_type": "code",
   "execution_count": null,
   "id": "c434a2a9",
   "metadata": {},
   "outputs": [],
   "source": [
    "# Readline\n",
    "f = open(\"demofile.txt\", \"r\")\n",
    "print(f.readline())"
   ]
  },
  {
   "cell_type": "markdown",
   "id": "ba7062c6",
   "metadata": {},
   "source": [
    "By calling ```readline()``` two times, you can read the two first lines:"
   ]
  },
  {
   "cell_type": "code",
   "execution_count": null,
   "id": "d64096b6",
   "metadata": {},
   "outputs": [],
   "source": [
    "# Calling readline multiple times\n",
    "f = open(\"demofile.txt\", \"r\")\n",
    "print(f.readline())\n",
    "print(f.readline())"
   ]
  },
  {
   "cell_type": "code",
   "execution_count": null,
   "id": "fdb75780",
   "metadata": {},
   "outputs": [],
   "source": [
    "# By looping through the lines of the file, you can read the whole file, line by line:\n",
    "f = open(\"demofile.txt\", \"r\")\n",
    "for x in f:\n",
    "  print(x)"
   ]
  },
  {
   "cell_type": "markdown",
   "id": "f2864fea",
   "metadata": {},
   "source": [
    "### Close Files\n",
    "It is a good practice to always close the file when you are done with it."
   ]
  },
  {
   "cell_type": "code",
   "execution_count": null,
   "id": "bf1a94fe",
   "metadata": {},
   "outputs": [],
   "source": [
    "f = open(\"demofile.txt\", \"r\")\n",
    "print(f.readline())\n",
    "f.close()"
   ]
  },
  {
   "cell_type": "markdown",
   "id": "f67be83b",
   "metadata": {},
   "source": [
    "### Write to an Existing File\n",
    "To write to an existing file, you must add a parameter to the open() function:\n",
    "\n",
    "```\n",
    "\"a\" - Append - will append to the end of the file\n",
    "\n",
    "\"w\" - Write - will overwrite any existing content\n",
    "```"
   ]
  },
  {
   "cell_type": "code",
   "execution_count": null,
   "id": "ee373da2",
   "metadata": {},
   "outputs": [],
   "source": [
    "# Opening file and appending\n",
    "f = open(\"demofile2.txt\", \"a\")\n",
    "f.write(\"Now the file has more content!\")\n",
    "f.close()"
   ]
  },
  {
   "cell_type": "code",
   "execution_count": null,
   "id": "4cbe9be2",
   "metadata": {},
   "outputs": [],
   "source": [
    "#open and read the file after the appending:\n",
    "f = open(\"demofile2.txt\", \"r\")\n",
    "print(f.read())"
   ]
  },
  {
   "cell_type": "markdown",
   "id": "014954de",
   "metadata": {},
   "source": [
    "### Create a New File\n",
    "To create a new file in Python, use the open() method, with one of the following parameters:\n",
    "\n",
    "```\n",
    "\"x\" - Create - will create a file, returns an error if the file exist\n",
    "\n",
    "\"a\" - Append - will create a file if the specified file does not exist\n",
    "\n",
    "\"w\" - Write - will create a file if the specified file does not exist\n",
    "```"
   ]
  },
  {
   "cell_type": "code",
   "execution_count": null,
   "id": "13399271",
   "metadata": {},
   "outputs": [],
   "source": [
    "# Create a file called \"myfile.txt\":\n",
    "f = open(\"myfile.txt\", \"x\")"
   ]
  },
  {
   "cell_type": "code",
   "execution_count": null,
   "id": "e48a8b87",
   "metadata": {},
   "outputs": [],
   "source": [
    "# Create a new file if it does not exist:\n",
    "f = open(\"myfile.txt\", \"w\")"
   ]
  },
  {
   "cell_type": "markdown",
   "id": "3e98ddb8",
   "metadata": {},
   "source": [
    "### Delete a File\n",
    "To delete a file, you must import the OS module, and run its ```os.remove()``` function:"
   ]
  },
  {
   "cell_type": "code",
   "execution_count": null,
   "id": "c79d5fd4",
   "metadata": {},
   "outputs": [],
   "source": [
    "import os\n",
    "os.remove(\"demofile.txt\")"
   ]
  },
  {
   "cell_type": "markdown",
   "id": "fe54cfbd",
   "metadata": {},
   "source": [
    "### Check if File exist:\n",
    "To avoid getting an error, you might want to check if the file exists before you try to delete it:"
   ]
  },
  {
   "cell_type": "code",
   "execution_count": null,
   "id": "58a32af8",
   "metadata": {},
   "outputs": [],
   "source": [
    "import os\n",
    "if os.path.exists(\"demofile.txt\"):\n",
    "  os.remove(\"demofile.txt\")\n",
    "else:\n",
    "  print(\"The file does not exist\")"
   ]
  },
  {
   "cell_type": "markdown",
   "id": "3c1d97dd",
   "metadata": {},
   "source": [
    "### Delete Folder\n",
    "To delete an entire folder, use the ```os.rmdir()``` method:"
   ]
  },
  {
   "cell_type": "code",
   "execution_count": null,
   "id": "5ca6aef9",
   "metadata": {},
   "outputs": [],
   "source": [
    "# Use with extreme caution\n",
    "import os\n",
    "os.rmdir(\"myfolder\")"
   ]
  },
  {
   "cell_type": "code",
   "execution_count": null,
   "id": "9b3c18bf",
   "metadata": {},
   "outputs": [],
   "source": []
  },
  {
   "cell_type": "code",
   "execution_count": null,
   "id": "d22e9a35",
   "metadata": {},
   "outputs": [],
   "source": []
  },
  {
   "cell_type": "code",
   "execution_count": null,
   "id": "4cccbcd5",
   "metadata": {},
   "outputs": [],
   "source": []
  },
  {
   "cell_type": "code",
   "execution_count": null,
   "id": "11feeece",
   "metadata": {},
   "outputs": [],
   "source": []
  }
 ],
 "metadata": {
  "kernelspec": {
   "display_name": "Python 3 (ipykernel)",
   "language": "python",
   "name": "python3"
  },
  "language_info": {
   "codemirror_mode": {
    "name": "ipython",
    "version": 3
   },
   "file_extension": ".py",
   "mimetype": "text/x-python",
   "name": "python",
   "nbconvert_exporter": "python",
   "pygments_lexer": "ipython3",
   "version": "3.7.11"
  }
 },
 "nbformat": 4,
 "nbformat_minor": 5
}
