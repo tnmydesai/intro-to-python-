{
 "cells": [
  {
   "cell_type": "markdown",
   "id": "1b5f9e96",
   "metadata": {},
   "source": [
    "# Python\n",
    "\n",
    "## Table on Contents\n",
    "\n",
    "* [Basic Python Data Structures](#bpds)\n",
    "    * [Variables and Types](#vat)\n",
    "        * [Numbers](#num)\n",
    "        * [Strings](#str)\n",
    "    * [Lists](#lst)\n",
    "    * [Tuples](#tup)\n",
    "    * [Sets](#set)\n",
    "    * [Dictionaries](#dict)"
   ]
  },
  {
   "cell_type": "markdown",
   "id": "796b568b",
   "metadata": {},
   "source": [
    "![image.png](https://www.python.org/static/img/python-logo@2x.png)\n",
    "\n",
    "Python is a high-level, general-purpose programming language. Its design philosophy emphasizes code readability with the use of significant indentation. Python is dynamically-typed and garbage-collected. It supports multiple programming paradigms, including structured, object-oriented and functional programming. \n",
    "\n",
    "The official Website can be found [here](https://www.python.org/). "
   ]
  },
  {
   "cell_type": "markdown",
   "id": "f88eb83c",
   "metadata": {
    "tags": []
   },
   "source": [
    "## Basic Python Data Structures<a class=\"anchor\" id=\"bpds\"></a>"
   ]
  },
  {
   "cell_type": "markdown",
   "id": "fecf1f02",
   "metadata": {},
   "source": [
    "## Hello World"
   ]
  },
  {
   "cell_type": "code",
   "execution_count": 3,
   "id": "b09bc969",
   "metadata": {},
   "outputs": [
    {
     "name": "stdout",
     "output_type": "stream",
     "text": [
      "Hello World\n"
     ]
    }
   ],
   "source": [
    "print('Hello World')"
   ]
  },
  {
   "cell_type": "markdown",
   "id": "b45c003b",
   "metadata": {},
   "source": [
    "# Variables and Types<a class=\"anchor\" id=\"vat\"></a>\n",
    "1. Numbers\n",
    "2. Strings"
   ]
  },
  {
   "cell_type": "markdown",
   "id": "209c5163-8480-46af-97d8-d860610a6a80",
   "metadata": {},
   "source": [
    "## Numbers<a class=\"anchor\" id=\"num\"></a>"
   ]
  },
  {
   "cell_type": "code",
   "execution_count": 4,
   "id": "8487fe52-45f1-406a-93b5-fe322153e4ec",
   "metadata": {
    "scrolled": true
   },
   "outputs": [
    {
     "name": "stdout",
     "output_type": "stream",
     "text": [
      "3\n",
      "3.0\n"
     ]
    }
   ],
   "source": [
    "a = 3\n",
    "b = 3.0\n",
    "print(a)\n",
    "print(b)"
   ]
  },
  {
   "cell_type": "markdown",
   "id": "5bace570",
   "metadata": {},
   "source": [
    "What is the difference, both look the same."
   ]
  },
  {
   "cell_type": "code",
   "execution_count": 5,
   "id": "51b66406-711c-40cb-a57b-be2d4019a8cc",
   "metadata": {
    "tags": []
   },
   "outputs": [
    {
     "name": "stdout",
     "output_type": "stream",
     "text": [
      "<class 'int'>\n"
     ]
    }
   ],
   "source": [
    "print(type(a))"
   ]
  },
  {
   "cell_type": "code",
   "execution_count": 6,
   "id": "78553962-09b6-488b-a439-e0b62929bdb4",
   "metadata": {
    "tags": []
   },
   "outputs": [
    {
     "name": "stdout",
     "output_type": "stream",
     "text": [
      "<class 'float'>\n"
     ]
    }
   ],
   "source": [
    "print(type(b))"
   ]
  },
  {
   "cell_type": "markdown",
   "id": "f1c231bd",
   "metadata": {},
   "source": [
    "## Basic math operations"
   ]
  },
  {
   "cell_type": "markdown",
   "id": "928a9809",
   "metadata": {},
   "source": [
    "What will happen if we divide the two."
   ]
  },
  {
   "cell_type": "code",
   "execution_count": 7,
   "id": "5f1f00f5-0f4f-4289-a8c5-a2bfaa132134",
   "metadata": {
    "tags": []
   },
   "outputs": [
    {
     "name": "stdout",
     "output_type": "stream",
     "text": [
      "1.0\n"
     ]
    }
   ],
   "source": [
    "print(a/b)"
   ]
  },
  {
   "cell_type": "code",
   "execution_count": 8,
   "id": "dd6c33fd",
   "metadata": {},
   "outputs": [
    {
     "name": "stdout",
     "output_type": "stream",
     "text": [
      "1.0\n"
     ]
    }
   ],
   "source": [
    "print(b/a)"
   ]
  },
  {
   "cell_type": "markdown",
   "id": "b7c8c029",
   "metadata": {},
   "source": [
    "What will happen if we multiply both. "
   ]
  },
  {
   "cell_type": "code",
   "execution_count": 9,
   "id": "41128627-23f5-490e-ae0c-c6cf03525b3c",
   "metadata": {},
   "outputs": [
    {
     "name": "stdout",
     "output_type": "stream",
     "text": [
      "9.0\n"
     ]
    }
   ],
   "source": [
    "print(a*b)"
   ]
  },
  {
   "cell_type": "markdown",
   "id": "7dc3db40",
   "metadata": {},
   "source": [
    "Subtraction"
   ]
  },
  {
   "cell_type": "code",
   "execution_count": 10,
   "id": "f98ceeca-1013-4c9d-ac63-6a1ba7efc85e",
   "metadata": {},
   "outputs": [
    {
     "name": "stdout",
     "output_type": "stream",
     "text": [
      "0.0\n"
     ]
    }
   ],
   "source": [
    "print(a-b)"
   ]
  },
  {
   "cell_type": "markdown",
   "id": "3db83200",
   "metadata": {},
   "source": [
    "Addition"
   ]
  },
  {
   "cell_type": "code",
   "execution_count": 11,
   "id": "e36516f8-fcc1-42b0-890b-917e772dd521",
   "metadata": {},
   "outputs": [
    {
     "name": "stdout",
     "output_type": "stream",
     "text": [
      "6.0\n"
     ]
    }
   ],
   "source": [
    "print(a+b)"
   ]
  },
  {
   "cell_type": "markdown",
   "id": "b59fb63f",
   "metadata": {},
   "source": [
    "Remainder"
   ]
  },
  {
   "cell_type": "code",
   "execution_count": 12,
   "id": "49ddd777",
   "metadata": {},
   "outputs": [
    {
     "name": "stdout",
     "output_type": "stream",
     "text": [
      "0.0\n"
     ]
    }
   ],
   "source": [
    "print(a%b)"
   ]
  },
  {
   "cell_type": "markdown",
   "id": "f893287a",
   "metadata": {},
   "source": [
    "Squared"
   ]
  },
  {
   "cell_type": "code",
   "execution_count": 13,
   "id": "8f366e9d",
   "metadata": {},
   "outputs": [
    {
     "name": "stdout",
     "output_type": "stream",
     "text": [
      "9\n"
     ]
    }
   ],
   "source": [
    "print(a**2)"
   ]
  },
  {
   "cell_type": "markdown",
   "id": "3f22cf75",
   "metadata": {},
   "source": [
    "-----\n",
    "\n",
    "### Practice\n",
    "Practice all the operators that you have just seen.\n",
    "\n",
    "----"
   ]
  },
  {
   "cell_type": "markdown",
   "id": "1cdc7f21-12fb-4c65-8e4f-3ab18ce28a2c",
   "metadata": {},
   "source": [
    "## Strings<a class=\"anchor\" id=\"str\"></a>"
   ]
  },
  {
   "cell_type": "code",
   "execution_count": 14,
   "id": "ac10dfb6-2a89-4931-a03e-543b65027a0c",
   "metadata": {},
   "outputs": [],
   "source": [
    "s1 = \"This is a string\"\n",
    "s2 = \"This is also a string\"\n",
    "s3 = '''This too is a string''' ## you can write multiline strings using ''' triple quotes '''"
   ]
  },
  {
   "cell_type": "markdown",
   "id": "3c98243b",
   "metadata": {},
   "source": [
    "Strings are iterables and can be indexed and looped through\n"
   ]
  },
  {
   "cell_type": "code",
   "execution_count": 15,
   "id": "c838b39c-ecff-4192-bdd8-94165b4271c3",
   "metadata": {},
   "outputs": [
    {
     "data": {
      "text/plain": [
       "'T'"
      ]
     },
     "execution_count": 15,
     "metadata": {},
     "output_type": "execute_result"
    }
   ],
   "source": [
    "s1[0]"
   ]
  },
  {
   "cell_type": "code",
   "execution_count": 16,
   "id": "822e975d-a99b-43f4-bc97-687a7a8418d8",
   "metadata": {},
   "outputs": [
    {
     "data": {
      "text/plain": [
       "'i'"
      ]
     },
     "execution_count": 16,
     "metadata": {},
     "output_type": "execute_result"
    }
   ],
   "source": [
    "s1[2]"
   ]
  },
  {
   "cell_type": "code",
   "execution_count": 17,
   "id": "409d9ae1-baee-4d1c-9c22-3ac34e3a2d14",
   "metadata": {},
   "outputs": [
    {
     "data": {
      "text/plain": [
       "'g'"
      ]
     },
     "execution_count": 17,
     "metadata": {},
     "output_type": "execute_result"
    }
   ],
   "source": [
    "s1[-1]"
   ]
  },
  {
   "cell_type": "markdown",
   "id": "581fc754",
   "metadata": {},
   "source": [
    "You can run a loop to iterate over all. "
   ]
  },
  {
   "cell_type": "code",
   "execution_count": 18,
   "id": "dfa1bf1c-bcde-47c9-ba1b-932949e237f3",
   "metadata": {
    "scrolled": true
   },
   "outputs": [
    {
     "name": "stdout",
     "output_type": "stream",
     "text": [
      "T\n",
      "h\n",
      "i\n",
      "s\n",
      " \n",
      "i\n",
      "s\n",
      " \n",
      "a\n",
      " \n",
      "s\n",
      "t\n",
      "r\n",
      "i\n",
      "n\n",
      "g\n"
     ]
    }
   ],
   "source": [
    "for s in s1:\n",
    "    print(s)"
   ]
  },
  {
   "cell_type": "markdown",
   "id": "4431d878-cfb3-49e3-ac55-db6f38fabf8c",
   "metadata": {},
   "source": [
    "## Some peculiarities of strings"
   ]
  },
  {
   "cell_type": "code",
   "execution_count": 19,
   "id": "09c4d01c-8a30-4f87-b3df-c867ceeae7b9",
   "metadata": {},
   "outputs": [
    {
     "name": "stdout",
     "output_type": "stream",
     "text": [
      "4\n"
     ]
    }
   ],
   "source": [
    "a = 4 \n",
    "print(a) ## you can change numbers at place"
   ]
  },
  {
   "cell_type": "code",
   "execution_count": 20,
   "id": "33f02e15-ef6b-4dfc-b24d-fc53a421fde2",
   "metadata": {},
   "outputs": [
    {
     "name": "stdout",
     "output_type": "stream",
     "text": [
      "This is a string\n",
      "This is not a string\n"
     ]
    }
   ],
   "source": [
    "print(s1)\n",
    "s1 = 'This is not a string'\n",
    "print(s1) ## you can overwrite the whole string"
   ]
  },
  {
   "cell_type": "code",
   "execution_count": 21,
   "id": "718a9f80-14d6-40a0-aea4-d0170f8f474c",
   "metadata": {},
   "outputs": [
    {
     "ename": "TypeError",
     "evalue": "'str' object does not support item assignment",
     "output_type": "error",
     "traceback": [
      "\u001b[0;31m---------------------------------------------------------------------------\u001b[0m",
      "\u001b[0;31mTypeError\u001b[0m                                 Traceback (most recent call last)",
      "Input \u001b[0;32mIn [21]\u001b[0m, in \u001b[0;36m<cell line: 1>\u001b[0;34m()\u001b[0m\n\u001b[0;32m----> 1\u001b[0m s1[\u001b[38;5;241m0\u001b[39m]\u001b[38;5;241m=\u001b[39m\u001b[38;5;124m\"\u001b[39m\u001b[38;5;124mh\u001b[39m\u001b[38;5;124m\"\u001b[39m\n",
      "\u001b[0;31mTypeError\u001b[0m: 'str' object does not support item assignment"
     ]
    }
   ],
   "source": [
    "s1[0]=\"h\" #but you can't change the strings in place"
   ]
  },
  {
   "cell_type": "code",
   "execution_count": 22,
   "id": "959e4a13-62cd-4db8-80cb-049150871a25",
   "metadata": {},
   "outputs": [
    {
     "name": "stdout",
     "output_type": "stream",
     "text": [
      "This is not a string\n",
      "This is also a string\n"
     ]
    }
   ],
   "source": [
    "print(s1)\n",
    "print(s2)"
   ]
  },
  {
   "cell_type": "markdown",
   "id": "76ecd243",
   "metadata": {},
   "source": [
    "you can concatenate two strings "
   ]
  },
  {
   "cell_type": "code",
   "execution_count": 23,
   "id": "504e5941-95d4-4058-95a2-64bf186b4d1e",
   "metadata": {},
   "outputs": [
    {
     "name": "stdout",
     "output_type": "stream",
     "text": [
      "This is not a stringThis is also a string\n"
     ]
    }
   ],
   "source": [
    "print(s1+s2)"
   ]
  },
  {
   "cell_type": "code",
   "execution_count": 24,
   "id": "398d9520-e754-4c4b-9e82-d9a1357daa04",
   "metadata": {},
   "outputs": [
    {
     "name": "stdout",
     "output_type": "stream",
     "text": [
      "This is not a string This is also a string\n"
     ]
    }
   ],
   "source": [
    "print(s1+\" \"+s2)"
   ]
  },
  {
   "cell_type": "markdown",
   "id": "ec04ccca",
   "metadata": {},
   "source": [
    "## F String"
   ]
  },
  {
   "cell_type": "markdown",
   "id": "a1f84589",
   "metadata": {},
   "source": [
    "A way for us to dynamically create strings."
   ]
  },
  {
   "cell_type": "code",
   "execution_count": 25,
   "id": "64d491ae-1061-436d-a67a-cc864ea44a1b",
   "metadata": {},
   "outputs": [
    {
     "name": "stdout",
     "output_type": "stream",
     "text": [
      "This is not a string This is also a string\n"
     ]
    }
   ],
   "source": [
    "print(f'{s1} {s2}') #you can also use f-strings"
   ]
  },
  {
   "cell_type": "markdown",
   "id": "fbeda55e",
   "metadata": {},
   "source": [
    "## Quotes behaviour"
   ]
  },
  {
   "cell_type": "code",
   "execution_count": 26,
   "id": "9a092bdb-54e4-4a31-9b4e-299686e286e5",
   "metadata": {},
   "outputs": [
    {
     "data": {
      "text/plain": [
       "False"
      ]
     },
     "execution_count": 26,
     "metadata": {},
     "output_type": "execute_result"
    }
   ],
   "source": [
    "### Quotes behaviour\n",
    "s1 = '\"This has a quote\"'\n",
    "s2 = 'This has a quote'\n",
    "s1 == s2"
   ]
  },
  {
   "cell_type": "code",
   "execution_count": 27,
   "id": "63ec3c47-15a7-427a-865e-a5a405fc9646",
   "metadata": {},
   "outputs": [
    {
     "data": {
      "text/plain": [
       "'This has a quote'"
      ]
     },
     "execution_count": 27,
     "metadata": {},
     "output_type": "execute_result"
    }
   ],
   "source": [
    "s1.replace('\"',\"\")"
   ]
  },
  {
   "cell_type": "code",
   "execution_count": 28,
   "id": "14806896-8ae4-44ef-af52-3bb6226e55a5",
   "metadata": {},
   "outputs": [
    {
     "data": {
      "text/plain": [
       "True"
      ]
     },
     "execution_count": 28,
     "metadata": {},
     "output_type": "execute_result"
    }
   ],
   "source": [
    "s1.replace('\"',\"\") == s2"
   ]
  },
  {
   "cell_type": "markdown",
   "id": "f01de845-3cc3-4e48-9596-5e3c37271a4d",
   "metadata": {},
   "source": [
    "## How do we know what operations can be done on strings?\n",
    "\n",
    "Short Answer: Every thing in python is a [class](https://en.wikipedia.org/wiki/Class_(computer_programming)). And one can easily figure out what are the functions supported by objects of a class. We will discuss python classes in more detail in upcoming sessions."
   ]
  },
  {
   "cell_type": "code",
   "execution_count": 30,
   "id": "c27ecca6-57c6-45fb-b346-0e58bf563376",
   "metadata": {},
   "outputs": [
    {
     "data": {
      "text/plain": [
       "'\"this has a quote\"'"
      ]
     },
     "execution_count": 30,
     "metadata": {},
     "output_type": "execute_result"
    }
   ],
   "source": [
    "### How to use the methods, once we know what methods are supported by a particular class?\n",
    "s1.lower()"
   ]
  },
  {
   "cell_type": "code",
   "execution_count": 31,
   "id": "a51246ee-95f9-476a-a6ae-6ffea634ba99",
   "metadata": {},
   "outputs": [
    {
     "data": {
      "text/plain": [
       "'\"This has a quote\"'"
      ]
     },
     "execution_count": 31,
     "metadata": {},
     "output_type": "execute_result"
    }
   ],
   "source": [
    "s1"
   ]
  },
  {
   "cell_type": "code",
   "execution_count": 32,
   "id": "757d90d6-ee4c-4391-93fc-5a2fbc68c05d",
   "metadata": {},
   "outputs": [
    {
     "data": {
      "text/plain": [
       "'\"This Has A Quote\"'"
      ]
     },
     "execution_count": 32,
     "metadata": {},
     "output_type": "execute_result"
    }
   ],
   "source": [
    "### Try using title method\n",
    "s1.title()"
   ]
  },
  {
   "cell_type": "code",
   "execution_count": 33,
   "id": "26a768a2",
   "metadata": {
    "scrolled": true
   },
   "outputs": [
    {
     "data": {
      "text/plain": [
       "2"
      ]
     },
     "execution_count": 33,
     "metadata": {},
     "output_type": "execute_result"
    }
   ],
   "source": [
    "s1.count('a')"
   ]
  },
  {
   "cell_type": "markdown",
   "id": "ae8176a9",
   "metadata": {},
   "source": [
    "-----\n",
    "\n",
    "### Practice\n",
    "\n",
    "----\n",
    "\n",
    "Give the text \n",
    "\n",
    "\"Hurricane Sergio was a powerful and long-lived tropical cyclone that hit the Baja California Peninsula as a tropical storm and caused flooding throughout southern Texas in early October 2018.\"\n",
    "\n",
    "Try out the concepts taught above."
   ]
  },
  {
   "cell_type": "markdown",
   "id": "f4c8695e",
   "metadata": {},
   "source": [
    "## How do we find out what a method does?\n",
    "1. Google\n",
    "2. Use python documentation\n"
   ]
  },
  {
   "cell_type": "code",
   "execution_count": 32,
   "id": "8e90b2e3-6f04-48c5-afc3-9c733d9da94e",
   "metadata": {},
   "outputs": [],
   "source": [
    "?s1.title"
   ]
  },
  {
   "cell_type": "code",
   "execution_count": 33,
   "id": "7f87cd4c-e546-4640-85d6-07b6f0cc9ae1",
   "metadata": {},
   "outputs": [],
   "source": [
    "## What does the method split does?\n"
   ]
  },
  {
   "cell_type": "markdown",
   "id": "9dcbb46a-7af8-42dd-9765-e25577d8db25",
   "metadata": {},
   "source": [
    "## Lists<a class=\"anchor\" id=\"lst\"></a>\n",
    "- Lists are general buckets\n",
    "- They can be used to store many types of data including lists themselves"
   ]
  },
  {
   "cell_type": "code",
   "execution_count": 35,
   "id": "e7a0e795-752d-4eb4-8eda-a3c4ba8160cc",
   "metadata": {},
   "outputs": [],
   "source": [
    "my_list = [1,2,3,4,'a','b']"
   ]
  },
  {
   "cell_type": "code",
   "execution_count": 36,
   "id": "3d10efc2-b7b4-43dd-87eb-47bfa668526c",
   "metadata": {},
   "outputs": [
    {
     "data": {
      "text/plain": [
       "1"
      ]
     },
     "execution_count": 36,
     "metadata": {},
     "output_type": "execute_result"
    }
   ],
   "source": [
    "my_list[0]"
   ]
  },
  {
   "cell_type": "code",
   "execution_count": 37,
   "id": "9df7991f-e070-48ad-ab6b-6deba168d179",
   "metadata": {},
   "outputs": [
    {
     "name": "stdout",
     "output_type": "stream",
     "text": [
      "1\n",
      "2\n",
      "3\n",
      "4\n",
      "a\n",
      "b\n"
     ]
    }
   ],
   "source": [
    "for i in my_list:\n",
    "    print(i)"
   ]
  },
  {
   "cell_type": "code",
   "execution_count": 38,
   "id": "69424774-ddce-44e8-af78-51c7e7f86b7e",
   "metadata": {},
   "outputs": [],
   "source": [
    "my_list.append(169)"
   ]
  },
  {
   "cell_type": "code",
   "execution_count": 39,
   "id": "fa69eb6d-0ba9-452c-bb52-eac06157b2e7",
   "metadata": {},
   "outputs": [
    {
     "data": {
      "text/plain": [
       "[1, 2, 3, 4, 'a', 'b', 169]"
      ]
     },
     "execution_count": 39,
     "metadata": {},
     "output_type": "execute_result"
    }
   ],
   "source": [
    "my_list"
   ]
  },
  {
   "cell_type": "code",
   "execution_count": 40,
   "id": "7b3d9a55-a7f3-4af9-ba65-e32e9a889bfe",
   "metadata": {},
   "outputs": [],
   "source": [
    "my_list_2 = [80,90,100]"
   ]
  },
  {
   "cell_type": "code",
   "execution_count": 41,
   "id": "aaafc95d-e910-4bfe-aa68-fed80033716f",
   "metadata": {},
   "outputs": [
    {
     "data": {
      "text/plain": [
       "[1, 2, 3, 4, 'a', 'b', 169, 80, 90, 100]"
      ]
     },
     "execution_count": 41,
     "metadata": {},
     "output_type": "execute_result"
    }
   ],
   "source": [
    "my_list+my_list_2"
   ]
  },
  {
   "cell_type": "code",
   "execution_count": 42,
   "id": "e327117c-dfd0-47a0-ac97-c7e9d5bfaf83",
   "metadata": {},
   "outputs": [],
   "source": [
    "my_list.extend(my_list_2)"
   ]
  },
  {
   "cell_type": "code",
   "execution_count": 43,
   "id": "6f19148d-fdac-40a0-ab3f-72356706a0cb",
   "metadata": {},
   "outputs": [
    {
     "data": {
      "text/plain": [
       "[1, 2, 3, 4, 'a', 'b', 169, 80, 90, 100]"
      ]
     },
     "execution_count": 43,
     "metadata": {},
     "output_type": "execute_result"
    }
   ],
   "source": [
    "my_list"
   ]
  },
  {
   "cell_type": "code",
   "execution_count": 45,
   "id": "9b1a3a7a-bbb1-41e9-bd3d-19889f3bd2e9",
   "metadata": {},
   "outputs": [
    {
     "data": {
      "text/plain": [
       "10"
      ]
     },
     "execution_count": 45,
     "metadata": {},
     "output_type": "execute_result"
    }
   ],
   "source": [
    "len(my_list)"
   ]
  },
  {
   "cell_type": "code",
   "execution_count": 46,
   "id": "e7affee7",
   "metadata": {
    "scrolled": true
   },
   "outputs": [
    {
     "name": "stdout",
     "output_type": "stream",
     "text": [
      "[1, 2, 3, 4, 'a', 'b', 169, 80, 90, 100, 1, 2, 3, 4, 'a', 'b', 169, 80, 90, 100]\n"
     ]
    }
   ],
   "source": [
    "print(my_list * 2)"
   ]
  },
  {
   "cell_type": "markdown",
   "id": "4b04ae4c",
   "metadata": {},
   "source": [
    "--------\n",
    "\n",
    "### Practice\n",
    "\n",
    "--------\n",
    "\n",
    "Given the list \n",
    "\n",
    "[1, 2, 3, 4, 169, 80, 90, 100]\n",
    "\n",
    "Try out all the concepts taught above."
   ]
  },
  {
   "cell_type": "markdown",
   "id": "63a1cdc2-fd43-4cf3-8ca9-70cfdbd72a38",
   "metadata": {},
   "source": [
    "## Tuples<a class=\"anchor\" id=\"tup\"></a>\n",
    "- Work for the most part like lists\n",
    "- Their values can't be changed in-place."
   ]
  },
  {
   "cell_type": "code",
   "execution_count": 46,
   "id": "afce11e5-e23b-4739-9458-9a627453937e",
   "metadata": {},
   "outputs": [],
   "source": [
    "my_tuple = (1,2,3,4)\n",
    "my_list = [1,2,3,4]"
   ]
  },
  {
   "cell_type": "code",
   "execution_count": 47,
   "id": "7cc7e81d-fc6c-4c85-945d-e9e5f8cc44ea",
   "metadata": {},
   "outputs": [
    {
     "name": "stdout",
     "output_type": "stream",
     "text": [
      "1\n",
      "2\n",
      "3\n",
      "4\n"
     ]
    }
   ],
   "source": [
    "for i in my_tuple:\n",
    "    print(i)"
   ]
  },
  {
   "cell_type": "code",
   "execution_count": 48,
   "id": "c548663e-f852-44ca-909c-b20328d826f0",
   "metadata": {},
   "outputs": [
    {
     "data": {
      "text/plain": [
       "1"
      ]
     },
     "execution_count": 48,
     "metadata": {},
     "output_type": "execute_result"
    }
   ],
   "source": [
    "my_list[0]"
   ]
  },
  {
   "cell_type": "code",
   "execution_count": 49,
   "id": "111ec616-4b7d-468a-844f-636494518c64",
   "metadata": {},
   "outputs": [],
   "source": [
    "my_list[0]=100"
   ]
  },
  {
   "cell_type": "code",
   "execution_count": 50,
   "id": "f6f93692-4745-4c50-b99e-427bfbbd5a7c",
   "metadata": {},
   "outputs": [
    {
     "data": {
      "text/plain": [
       "[100, 2, 3, 4]"
      ]
     },
     "execution_count": 50,
     "metadata": {},
     "output_type": "execute_result"
    }
   ],
   "source": [
    "my_list"
   ]
  },
  {
   "cell_type": "code",
   "execution_count": 51,
   "id": "a7e0598c-ea35-4017-a8d3-4e7e6f3300ba",
   "metadata": {},
   "outputs": [
    {
     "data": {
      "text/plain": [
       "1"
      ]
     },
     "execution_count": 51,
     "metadata": {},
     "output_type": "execute_result"
    }
   ],
   "source": [
    "my_tuple[0]"
   ]
  },
  {
   "cell_type": "code",
   "execution_count": 52,
   "id": "0b73e931-919d-4fe2-b41d-c5d4a0a45b4a",
   "metadata": {
    "scrolled": true
   },
   "outputs": [
    {
     "ename": "TypeError",
     "evalue": "'tuple' object does not support item assignment",
     "output_type": "error",
     "traceback": [
      "\u001b[0;31m---------------------------------------------------------------------------\u001b[0m",
      "\u001b[0;31mTypeError\u001b[0m                                 Traceback (most recent call last)",
      "Input \u001b[0;32mIn [52]\u001b[0m, in \u001b[0;36m<cell line: 1>\u001b[0;34m()\u001b[0m\n\u001b[0;32m----> 1\u001b[0m my_tuple[\u001b[38;5;241m0\u001b[39m] \u001b[38;5;241m=\u001b[39m \u001b[38;5;241m100\u001b[39m\n",
      "\u001b[0;31mTypeError\u001b[0m: 'tuple' object does not support item assignment"
     ]
    }
   ],
   "source": [
    "my_tuple[0] = 100"
   ]
  },
  {
   "cell_type": "markdown",
   "id": "0e79cecb",
   "metadata": {},
   "source": [
    "--------\n",
    "\n",
    "### Practice\n",
    "\n",
    "--------\n",
    "\n",
    "Given the tuple \n",
    "\n",
    "(1, 2, 3, 4)\n",
    "\n",
    "Try out all the concepts taught above."
   ]
  },
  {
   "cell_type": "markdown",
   "id": "aaf91e52-aaba-4471-a270-5bacd347eab5",
   "metadata": {},
   "source": [
    "## Sets<a class=\"anchor\" id=\"set\"></a>\n",
    "\n",
    "- They behave like mathematical sets\n",
    "- Come in handy while doing set operations such as intersection (to find common items) etc"
   ]
  },
  {
   "cell_type": "code",
   "execution_count": 53,
   "id": "f0ad84b4",
   "metadata": {},
   "outputs": [
    {
     "data": {
      "text/plain": [
       "{'a', 'd', 'i', 'n'}"
      ]
     },
     "execution_count": 53,
     "metadata": {},
     "output_type": "execute_result"
    }
   ],
   "source": [
    "# finds the unique alphabets in a string\n",
    "set(\"india\")"
   ]
  },
  {
   "cell_type": "code",
   "execution_count": 54,
   "id": "95d71ea3-2393-4bc4-af10-6e443a2d447c",
   "metadata": {},
   "outputs": [],
   "source": [
    "set_a = set(['a','b','c','c'])\n",
    "set_b = {'b','c','d'}"
   ]
  },
  {
   "cell_type": "code",
   "execution_count": 55,
   "id": "c6b9d1fb",
   "metadata": {},
   "outputs": [
    {
     "data": {
      "text/plain": [
       "set"
      ]
     },
     "execution_count": 55,
     "metadata": {},
     "output_type": "execute_result"
    }
   ],
   "source": [
    "type(set_a)"
   ]
  },
  {
   "cell_type": "code",
   "execution_count": 56,
   "id": "0bd320f9",
   "metadata": {},
   "outputs": [
    {
     "data": {
      "text/plain": [
       "set"
      ]
     },
     "execution_count": 56,
     "metadata": {},
     "output_type": "execute_result"
    }
   ],
   "source": [
    "type(set_b)"
   ]
  },
  {
   "cell_type": "code",
   "execution_count": 58,
   "id": "6b62190d-4dfd-4f3a-96a3-0ed22a1dc8de",
   "metadata": {},
   "outputs": [
    {
     "name": "stdout",
     "output_type": "stream",
     "text": [
      "a\n",
      "b\n",
      "c\n"
     ]
    }
   ],
   "source": [
    "for i in set_a:\n",
    "    print(i)"
   ]
  },
  {
   "cell_type": "code",
   "execution_count": 59,
   "id": "5efe5b11-9fe1-4424-9637-3928ac825acf",
   "metadata": {},
   "outputs": [
    {
     "ename": "TypeError",
     "evalue": "'set' object is not subscriptable",
     "output_type": "error",
     "traceback": [
      "\u001b[0;31m---------------------------------------------------------------------------\u001b[0m",
      "\u001b[0;31mTypeError\u001b[0m                                 Traceback (most recent call last)",
      "Input \u001b[0;32mIn [59]\u001b[0m, in \u001b[0;36m<cell line: 1>\u001b[0;34m()\u001b[0m\n\u001b[0;32m----> 1\u001b[0m \u001b[43mset_a\u001b[49m\u001b[43m[\u001b[49m\u001b[38;5;241;43m0\u001b[39;49m\u001b[43m]\u001b[49m\n",
      "\u001b[0;31mTypeError\u001b[0m: 'set' object is not subscriptable"
     ]
    }
   ],
   "source": [
    "set_a[0]"
   ]
  },
  {
   "cell_type": "code",
   "execution_count": null,
   "id": "50ffdc40-7450-4f24-9a1b-3ab60690de92",
   "metadata": {},
   "outputs": [],
   "source": [
    "set_a.intersection(set_b)"
   ]
  },
  {
   "cell_type": "code",
   "execution_count": null,
   "id": "84184af7-3509-467c-bb8c-e705a13029e9",
   "metadata": {},
   "outputs": [],
   "source": [
    "set_a.difference(set_b)"
   ]
  },
  {
   "cell_type": "code",
   "execution_count": null,
   "id": "496d4de0-e41f-4e00-bec2-f22730ae4669",
   "metadata": {},
   "outputs": [],
   "source": [
    "set_a == set_b"
   ]
  },
  {
   "cell_type": "code",
   "execution_count": null,
   "id": "0a87ad63-5faa-4f98-9a8f-7502e2cd71f4",
   "metadata": {},
   "outputs": [],
   "source": [
    "set_c = {'a','b','c'}"
   ]
  },
  {
   "cell_type": "code",
   "execution_count": null,
   "id": "398d754b-d4cc-4636-a323-d4109aec2245",
   "metadata": {},
   "outputs": [],
   "source": [
    "set_a == set_c"
   ]
  },
  {
   "cell_type": "markdown",
   "id": "bd9996a5",
   "metadata": {},
   "source": [
    "--------\n",
    "\n",
    "### Practice\n",
    "\n",
    "--------\n",
    "\n",
    "Given the sets below\n",
    "\n",
    "{'b','c','d'}\n",
    "\n",
    "{'x','y','z'}\n",
    "\n",
    "Try out all the concepts taught above."
   ]
  },
  {
   "cell_type": "markdown",
   "id": "bdfe7855-a8fe-4b38-b0bd-01842df2d85e",
   "metadata": {},
   "source": [
    "## Dictionaries<a class=\"anchor\" id=\"dict\"></a>\n",
    "\n",
    "- Key-value pairs\n",
    "- Indices have no order"
   ]
  },
  {
   "cell_type": "code",
   "execution_count": 60,
   "id": "56c915f2-dc9c-4e1e-ac31-035aeecf6222",
   "metadata": {},
   "outputs": [],
   "source": [
    "d = {'name':'a','age':29,'prev_companies':['abc','def']}"
   ]
  },
  {
   "cell_type": "code",
   "execution_count": 61,
   "id": "a49238f3-8bf2-4c30-8331-590be7846e04",
   "metadata": {},
   "outputs": [
    {
     "ename": "KeyError",
     "evalue": "0",
     "output_type": "error",
     "traceback": [
      "\u001b[0;31m---------------------------------------------------------------------------\u001b[0m",
      "\u001b[0;31mKeyError\u001b[0m                                  Traceback (most recent call last)",
      "Input \u001b[0;32mIn [61]\u001b[0m, in \u001b[0;36m<cell line: 1>\u001b[0;34m()\u001b[0m\n\u001b[0;32m----> 1\u001b[0m \u001b[43md\u001b[49m\u001b[43m[\u001b[49m\u001b[38;5;241;43m0\u001b[39;49m\u001b[43m]\u001b[49m\n",
      "\u001b[0;31mKeyError\u001b[0m: 0"
     ]
    }
   ],
   "source": [
    "d[0]"
   ]
  },
  {
   "cell_type": "code",
   "execution_count": null,
   "id": "edcb54fe-745f-454e-8cfe-040c1a7d0f4e",
   "metadata": {},
   "outputs": [],
   "source": [
    "d['name']"
   ]
  },
  {
   "cell_type": "code",
   "execution_count": null,
   "id": "a92c33c8-6034-406c-abec-a74585d5a17d",
   "metadata": {},
   "outputs": [],
   "source": [
    "d['prev_companies']"
   ]
  },
  {
   "cell_type": "code",
   "execution_count": null,
   "id": "894c9c54-db19-4e22-a0bf-7f78dfcca435",
   "metadata": {},
   "outputs": [],
   "source": [
    "d['prev_companies'][-1]"
   ]
  },
  {
   "cell_type": "code",
   "execution_count": null,
   "id": "e8e0fe0b-c423-400a-98a9-fd4a70a0450f",
   "metadata": {},
   "outputs": [],
   "source": [
    "for i in d:\n",
    "    print(i)"
   ]
  },
  {
   "cell_type": "code",
   "execution_count": null,
   "id": "6fca445c-e072-4ac1-8aef-254549c69b67",
   "metadata": {},
   "outputs": [],
   "source": [
    "for i in d:\n",
    "    print(d[i])"
   ]
  },
  {
   "cell_type": "code",
   "execution_count": null,
   "id": "38a0d342-de81-4c43-9360-a8bab8a49b3d",
   "metadata": {},
   "outputs": [],
   "source": [
    "d['new_key'] = 'value'"
   ]
  },
  {
   "cell_type": "code",
   "execution_count": null,
   "id": "7c826641-0232-415e-a849-41f136c2922c",
   "metadata": {},
   "outputs": [],
   "source": [
    "d"
   ]
  },
  {
   "cell_type": "code",
   "execution_count": null,
   "id": "606f6d0f-0264-4215-a19c-21c3be70731b",
   "metadata": {},
   "outputs": [],
   "source": [
    "'value' in d"
   ]
  },
  {
   "cell_type": "code",
   "execution_count": null,
   "id": "dee8846f-4c3b-4747-8b29-ad6200d2bfbd",
   "metadata": {},
   "outputs": [],
   "source": [
    "'new_key' in d"
   ]
  },
  {
   "cell_type": "markdown",
   "id": "0ae41ded",
   "metadata": {},
   "source": [
    "--------\n",
    "\n",
    "### Practice\n",
    "\n",
    "--------\n",
    "\n",
    "Given the sets below\n",
    "\n",
    "{'b','c','d'}\n",
    "\n",
    "{'x','y','z'}\n",
    "\n",
    "Try out all the concepts taught above."
   ]
  },
  {
   "cell_type": "markdown",
   "id": "b227d403-f3e7-4dd8-b8f1-691d0968d008",
   "metadata": {},
   "source": []
  }
 ],
 "metadata": {
  "kernelspec": {
   "display_name": "Python 3 (ipykernel)",
   "language": "python",
   "name": "python3"
  },
  "language_info": {
   "codemirror_mode": {
    "name": "ipython",
    "version": 3
   },
   "file_extension": ".py",
   "mimetype": "text/x-python",
   "name": "python",
   "nbconvert_exporter": "python",
   "pygments_lexer": "ipython3",
   "version": "3.7.11"
  }
 },
 "nbformat": 4,
 "nbformat_minor": 5
}
